{
 "cells": [
  {
   "cell_type": "code",
   "execution_count": 88,
   "metadata": {},
   "outputs": [
    {
     "name": "stdout",
     "output_type": "stream",
     "text": [
      "1061970586802835.0\n"
     ]
    },
    {
     "ename": "SystemExit",
     "evalue": "",
     "output_type": "error",
     "traceback": [
      "An exception has occurred, use %tb to see the full traceback.\n",
      "\u001b[0;31mSystemExit\u001b[0m\n"
     ]
    }
   ],
   "source": [
    "import csv\n",
    "import time\n",
    "from collections import defaultdict\n",
    "import sys\n",
    "import matplotlib.pyplot as plt\n",
    "import numpy as np\n",
    "\n",
    "keys = ('AMB_TEMP', 'CH4', 'CO', 'NMHC', 'NO', 'NO2', 'NOx', 'O3', 'PM10', 'PM2.5', 'RAINFALL', 'RH', 'SO2', 'THC', 'WD_HR', 'WIND_DIREC', 'WIND_SPEED', 'WS_HR')\n",
    "\n",
    "#Gather Value of PM2.5 every hour\n",
    "def getValue(comp) :\n",
    "    value = []\n",
    "    f = open(\"data/train.csv\")\n",
    "    readers = csv.reader(f)\n",
    "    for itemKey, itemValue in enumerate(readers) :\n",
    "        if itemKey > 0 and itemValue[1] == comp :\n",
    "            for columnKey, columnValue in enumerate(itemValue) :\n",
    "                if columnKey > 1 :\n",
    "                    try :\n",
    "                        value.append(float(columnValue))\n",
    "                    except ValueError :\n",
    "                        value.append(float(0))\n",
    "    return value\n",
    "\n",
    "pm25 = getValue('PM2.5')\n",
    "pm10 = getValue('PM10')\n",
    "rain = getValue('RAINFALL')\n",
    "so2  = getValue('SO2')\n",
    "\n",
    "rangeOfDataKey = range(len(pm25) - 5)\n",
    "w1 = w2 = w3 = w4 = w5 = w6 = w7 = w8 = w9 = wa = wb = wc = wd = we = wf = b = 1\n",
    "lost = 0.0\n",
    "\n",
    "for loopOfDataKey in rangeOfDataKey :\n",
    "\n",
    "    x1 = pm25[loopOfDataKey]\n",
    "    x2 = pm25[loopOfDataKey + 1]\n",
    "    x3 = pm25[loopOfDataKey + 2]\n",
    "    x4 = pm25[loopOfDataKey + 3]\n",
    "    x5 = pm25[loopOfDataKey + 4]\n",
    "\n",
    "    # x1 x2 x3 x4 x5 三次式\n",
    "    y_prod = \\\n",
    "    w1 * x1**3 + w2 * x1**2 + w3 * x1 + \\\n",
    "    w4 * x2**3 + w5 * x2**2 + w6 * x2 + \\\n",
    "    w7 * x3**3 + w8 * x3**2 + w9 * x3 + \\\n",
    "    wa * x4**3 + wb * x4**2 + wc * x4 + \\\n",
    "    wd * x5**3 + we * x5**2 + wf * x5 + b\n",
    "\n",
    "    lost = lost + np.square(pm25[loopOfDataKey + 5] - y_prod)    \n",
    "\n",
    "print(lost)\n",
    "sys.exit()\n",
    "x = range(200)\n",
    "\n",
    "plt.plot(x, pm25[0:200], label='PM2.5')\n",
    "plt.plot(x, pm10[0:200], label='PM10')\n",
    "plt.plot(x, rain[0:200], label='Rain')\n",
    "plt.plot(x, so2[0:200], label='SO2')\n",
    "\n",
    "plt.xlabel('x label')\n",
    "plt.ylabel('y label')\n",
    "\n",
    "plt.title(\"Simple Plot\")\n",
    "\n",
    "plt.legend()\n",
    "\n",
    "plt.show()\n",
    "\n",
    "\n"
   ]
  },
  {
   "cell_type": "code",
   "execution_count": null,
   "metadata": {
    "scrolled": false
   },
   "outputs": [],
   "source": []
  },
  {
   "cell_type": "code",
   "execution_count": null,
   "metadata": {},
   "outputs": [],
   "source": []
  }
 ],
 "metadata": {
  "kernelspec": {
   "display_name": "Python 3",
   "language": "python",
   "name": "python3"
  },
  "language_info": {
   "codemirror_mode": {
    "name": "ipython",
    "version": 3
   },
   "file_extension": ".py",
   "mimetype": "text/x-python",
   "name": "python",
   "nbconvert_exporter": "python",
   "pygments_lexer": "ipython3",
   "version": "3.7.1"
  }
 },
 "nbformat": 4,
 "nbformat_minor": 2
}
