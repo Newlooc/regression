{
 "cells": [
  {
   "cell_type": "code",
   "execution_count": 13,
   "metadata": {},
   "outputs": [
    {
     "name": "stdout",
     "output_type": "stream",
     "text": [
      "1388505600\n"
     ]
    },
    {
     "ename": "SystemExit",
     "evalue": "",
     "output_type": "error",
     "traceback": [
      "An exception has occurred, use %tb to see the full traceback.\n",
      "\u001b[0;31mSystemExit\u001b[0m\n"
     ]
    }
   ],
   "source": [
    "import csv\n",
    "import time\n",
    "from collections import defaultdict\n",
    "import sys\n",
    "\n",
    "start = 1388505599;\n",
    "\n",
    "f = open(\"data/train.csv\")\n",
    "readers = csv.reader(f)\n",
    "\n",
    "keys = ('AMB_TEMP', 'CH4', 'CO', 'NMHC', 'NO', 'NO2', 'NOx', 'O3', 'PM10', 'PM2.5', 'RAINFALL', 'RH', 'SO2', 'THC', 'WD_HR', 'WIND_DIREC', 'WIND_SPEED', 'WS_HR')\n",
    "writeList = ('PM2.5')\n",
    "\n",
    "dayOfContent = defaultdict(dict)\n",
    "\n",
    "for rkey, row in enumerate(readers) :\n",
    "    if(rkey > 0) :\n",
    "        for cKey, column in enumerate(row) :\n",
    "            if(cKey > 1) :\n",
    "                timeString = '{} {}'.format(row[0], str(cKey - 2))\n",
    "                ts = time.strptime(timeString, '%Y/%m/%d %H')\n",
    "                tsKey = time.mktime(ts)\n",
    "                if row[1] in writeList :\n",
    "                    dayOfContent[str(int(tsKey))][row[1]] = column\n",
    "\n",
    "                \n",
    "#print(dayOfContent)\n",
    "#fx = w1 * x**3 + w2 * x**2 + w3 * x + b\n",
    "\n",
    "w1 = w2 = w3 = b = 1\n",
    "gradW1 = gradW2 = gradW3 = gradB = 0\n",
    "lr = 0.00001\n",
    "loop = 100000\n",
    "\n",
    "for l in range(loop) :\n",
    "    for time in dayOfContent :\n",
    "        data = dayOfContent[time]['PM2.5']\n",
    "        print(time)\n",
    "        sys.exit()\n",
    "        #gradW1 += -2 * (data - time**3 * W1)\n"
   ]
  },
  {
   "cell_type": "code",
   "execution_count": 8,
   "metadata": {
    "scrolled": true
   },
   "outputs": [
    {
     "data": {
      "text/plain": [
       "8"
      ]
     },
     "execution_count": 8,
     "metadata": {},
     "output_type": "execute_result"
    }
   ],
   "source": []
  },
  {
   "cell_type": "code",
   "execution_count": null,
   "metadata": {},
   "outputs": [],
   "source": []
  }
 ],
 "metadata": {
  "kernelspec": {
   "display_name": "Python 3",
   "language": "python",
   "name": "python3"
  },
  "language_info": {
   "codemirror_mode": {
    "name": "ipython",
    "version": 3
   },
   "file_extension": ".py",
   "mimetype": "text/x-python",
   "name": "python",
   "nbconvert_exporter": "python",
   "pygments_lexer": "ipython3",
   "version": "3.7.1"
  }
 },
 "nbformat": 4,
 "nbformat_minor": 2
}
