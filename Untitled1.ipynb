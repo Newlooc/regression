{
 "cells": [
  {
   "cell_type": "code",
   "execution_count": 20,
   "metadata": {},
   "outputs": [
    {
     "name": "stdout",
     "output_type": "stream",
     "text": [
      "2.5744685734823998 -176.0542415068467\n"
     ]
    }
   ],
   "source": [
    "import numpy as np\n",
    "\n",
    "x_data = [338., 333., 328., 207., 265., 25., 179., 60., 208.,  606.]\n",
    "y_data = [640., 633., 619., 393., 428., 27., 193., 66., 226., 1591.]\n",
    "\n",
    "w = 0\n",
    "b = 0\n",
    "lr = 1\n",
    "lr_w = 0\n",
    "lr_b = 0\n",
    "L_w = 0\n",
    "L_b = 0\n",
    "\n",
    "\n",
    "for n in range(1000000) :\n",
    "    \n",
    "    sigma_w = 0;\n",
    "    sigma_b = 0;\n",
    "    for i in range(len(x_data)) :\n",
    "        L_w -= 2 * (y_data[i] - w * x_data[i] - b) * x_data[i]\n",
    "        L_b -= 2 * (y_data[i] - w * x_data[i] - b)\n",
    "\n",
    "    lr_w = lr_w + L_w ** 2\n",
    "    lr_b = lr_b + L_b ** 2\n",
    "        \n",
    "    w = w - lr / np.sqrt(lr_w) * L_w\n",
    "    b = b - lr / np.sqrt(lr_b) * L_b\n",
    "    \n",
    "print(w, b)"
   ]
  },
  {
   "cell_type": "code",
   "execution_count": null,
   "metadata": {},
   "outputs": [],
   "source": []
  },
  {
   "cell_type": "code",
   "execution_count": null,
   "metadata": {},
   "outputs": [],
   "source": []
  }
 ],
 "metadata": {
  "kernelspec": {
   "display_name": "Python 3",
   "language": "python",
   "name": "python3"
  },
  "language_info": {
   "codemirror_mode": {
    "name": "ipython",
    "version": 3
   },
   "file_extension": ".py",
   "mimetype": "text/x-python",
   "name": "python",
   "nbconvert_exporter": "python",
   "pygments_lexer": "ipython3",
   "version": "3.7.1"
  }
 },
 "nbformat": 4,
 "nbformat_minor": 2
}
